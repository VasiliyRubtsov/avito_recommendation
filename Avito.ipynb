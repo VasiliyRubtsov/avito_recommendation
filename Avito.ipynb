{
 "cells": [
  {
   "cell_type": "code",
   "execution_count": 2,
   "metadata": {
    "collapsed": false
   },
   "outputs": [],
   "source": [
    "import pandas as pd\n",
    "import numpy as np\n",
    "import json\n",
    "from lightfm import LightFM\n",
    "from scipy import sparse as sp\n",
    "from scipy import stats\n",
    "from sklearn.feature_extraction.text import CountVectorizer\n",
    "from sklearn.preprocessing import LabelEncoder, OneHotEncoder\n",
    "import pymorphy2\n",
    "import re"
   ]
  },
  {
   "cell_type": "code",
   "execution_count": 2,
   "metadata": {
    "collapsed": false
   },
   "outputs": [],
   "source": [
    "train_full = pd.read_csv('./data/train.csv', parse_dates=['event_date'])\n",
    "item_data = pd.read_csv('./data/item_data.csv')\n",
    "test_users = pd.read_csv('./data/test_users.csv')"
   ]
  },
  {
   "cell_type": "code",
   "execution_count": 3,
   "metadata": {
    "collapsed": true
   },
   "outputs": [],
   "source": [
    "# Перекодируем microcat\n",
    "enc = LabelEncoder()\n",
    "item_data['microcat_id'] = enc.fit_transform(item_data['microcat_id'])"
   ]
  },
  {
   "cell_type": "code",
   "execution_count": 24,
   "metadata": {
    "collapsed": false
   },
   "outputs": [],
   "source": [
    "# Описание item это item_id и microcat_id\n",
    "item_data = item_data.sort_values('item_id')\n",
    "enc = OneHotEncoder()\n",
    "item_features = enc.fit_transform(item_data[['item_id','microcat_id']])"
   ]
  },
  {
   "cell_type": "code",
   "execution_count": 5,
   "metadata": {
    "collapsed": false
   },
   "outputs": [],
   "source": [
    "with open('data/item_titles.json') as f:\n",
    "    titles_json = json.load(f)\n",
    "\n",
    "df_titles = pd.DataFrame(titles_json['data'])\n",
    "df_titles.columns = titles_json['columns']\n",
    "df_titles = df_titles.sort_values('item_id')\n",
    "\n",
    "# Приведем слова в title к нормальной форме\n",
    "morph = pymorphy2.MorphAnalyzer()\n",
    "def parse(x):\n",
    "    return ' '.join([morph.normal_forms(i)[0] for i in re.findall('\\w+', x)]) "
   ]
  },
  {
   "cell_type": "code",
   "execution_count": 6,
   "metadata": {
    "collapsed": false
   },
   "outputs": [
    {
     "name": "stdout",
     "output_type": "stream",
     "text": [
      "CPU times: user 1h 5min 1s, sys: 12.4 s, total: 1h 5min 14s\n",
      "Wall time: 1h 5min 23s\n"
     ]
    }
   ],
   "source": [
    "%%time\n",
    "df_titles.title = df_titles.title.apply(parse)"
   ]
  },
  {
   "cell_type": "code",
   "execution_count": 25,
   "metadata": {
    "collapsed": true
   },
   "outputs": [],
   "source": [
    "vectorizer = CountVectorizer(max_features=1000, binary=True)\n",
    "title = vectorizer.fit_transform(df_titles.title)\n",
    "\n",
    "# Теперь добавим к описанию itemа наличие слов из топ-10000 в title\n",
    "item_features = sp.hstack([item_features, title])"
   ]
  },
  {
   "cell_type": "code",
   "execution_count": 8,
   "metadata": {
    "collapsed": true
   },
   "outputs": [],
   "source": [
    "def get_dict_set(X, col):\n",
    "    some_dict = {}\n",
    "    for i, j in X[col].values:\n",
    "        if i not in some_dict:\n",
    "            some_dict[i] = set([j])\n",
    "        else:\n",
    "            some_dict[i].add(j)\n",
    "    return some_dict"
   ]
  },
  {
   "cell_type": "code",
   "execution_count": 9,
   "metadata": {
    "collapsed": true
   },
   "outputs": [],
   "source": [
    "train_full = train_full.merge(item_data, on='item_id')\n",
    "\n",
    "# user_location - в каком регионе чаще всего ищет пользователь \n",
    "user_location = train_full.groupby('user_id').location_id.apply(lambda x: stats.mode(x)[0][0]) \n",
    "users = test_users['user_id'].values\n",
    "\n",
    "# location2item - словарь, где по региону ставится id товаров в этом регионе\n",
    "location2item = get_dict_set(item_data[item_data.active_during_test == 1], ['location_id', 'item_id'])\n",
    "\n",
    "# user_seen - уже просмотренные пользователем товары\n",
    "user_seen = get_dict_set(train_full, ['user_id', 'item_id'])\n",
    "\n",
    "mode_loc = user_location.mode().values[0]"
   ]
  },
  {
   "cell_type": "code",
   "execution_count": 10,
   "metadata": {
    "collapsed": false
   },
   "outputs": [],
   "source": [
    "# Посчитаем веса. Чем дальше по времени, тем больший вес\n",
    "weight = train_full.event_date - train_full.event_date.min()\n",
    "weight = weight.apply(lambda x: x.total_seconds())\n",
    "weight = (weight/ weight.max())**8\n",
    "\n",
    "shape = (train_full.user_id.max() + 1, train_full.item_id.max() + 1)"
   ]
  },
  {
   "cell_type": "code",
   "execution_count": 26,
   "metadata": {
    "collapsed": true
   },
   "outputs": [],
   "source": [
    "W = sp.coo_matrix((weight, (train_full.user_id, train_full.item_id)), shape=shape)\n",
    "M = sp.coo_matrix(([1]*len(train_full), (train_full.user_id, train_full.item_id)), shape=shape)"
   ]
  },
  {
   "cell_type": "code",
   "execution_count": 27,
   "metadata": {
    "collapsed": false
   },
   "outputs": [
    {
     "data": {
      "text/plain": [
       "<646888x5436440 sparse matrix of type '<class 'numpy.int64'>'\n",
       "\twith 21847937 stored elements in Compressed Sparse Row format>"
      ]
     },
     "execution_count": 27,
     "metadata": {},
     "output_type": "execute_result"
    }
   ],
   "source": [
    "W.tocsr()\n",
    "M.tocsr()"
   ]
  },
  {
   "cell_type": "code",
   "execution_count": 28,
   "metadata": {
    "collapsed": false
   },
   "outputs": [
    {
     "name": "stdout",
     "output_type": "stream",
     "text": [
      "CPU times: user 5h 33min 40s, sys: 31.2 s, total: 5h 34min 12s\n",
      "Wall time: 5h 34min 19s\n"
     ]
    }
   ],
   "source": [
    "%%time\n",
    "model = LightFM(learning_rate=0.03, loss='warp', no_components=100, random_state=241)\n",
    "model.fit(M, epochs=70, item_features=item_features, sample_weight=W)"
   ]
  },
  {
   "cell_type": "code",
   "execution_count": 30,
   "metadata": {
    "collapsed": false
   },
   "outputs": [
    {
     "name": "stdout",
     "output_type": "stream",
     "text": [
      "10.0 %\n",
      "20.0 %\n",
      "30.0 %\n",
      "40.0 %\n",
      "50.0 %\n",
      "60.0 %\n",
      "70.0 %\n",
      "80.0 %\n",
      "90.0 %\n",
      "100.0 %\n",
      "CPU times: user 2d 14h 23min 54s, sys: 3h 30min 42s, total: 2d 17h 54min 37s\n",
      "Wall time: 3d 4h 13min 22s\n"
     ]
    }
   ],
   "source": [
    "%%time\n",
    "j = 0\n",
    "users_to_sub = []\n",
    "items_to_sub = []\n",
    "rank = []\n",
    "for u in users:\n",
    "    j += 1\n",
    "    items = np.array(list(location2item[user_location.get(u, mode_loc)].difference(user_seen.get(u, set()))))\n",
    "    result = model.predict(u, items, item_features=item_features)\n",
    "    top50 = items[result.argsort()[-50:]]\n",
    "    users_to_sub += [u]*len(top50)\n",
    "    items_to_sub += list(top50)\n",
    "    rank += list(range(len(top50) - 1, -1, -1)) \n",
    "    if j % 10000 == 0:\n",
    "        print(j / 1000, '%')"
   ]
  },
  {
   "cell_type": "code",
   "execution_count": 31,
   "metadata": {
    "collapsed": false
   },
   "outputs": [],
   "source": [
    "submission = pd.DataFrame()\n",
    "submission['user_id'] = users_to_sub\n",
    "submission['item_id'] = items_to_sub\n",
    "submission['rank'] = rank"
   ]
  },
  {
   "cell_type": "code",
   "execution_count": 34,
   "metadata": {
    "collapsed": false
   },
   "outputs": [],
   "source": [
    "submission[['user_id', 'item_id']].to_csv('20170609_avito_2017_VasiliyRubtsov.csv', index=False)\n",
    "submission.to_csv('lightFM.csv')"
   ]
  }
 ],
 "metadata": {
  "kernelspec": {
   "display_name": "Python 3",
   "language": "python",
   "name": "python3"
  },
  "language_info": {
   "codemirror_mode": {
    "name": "ipython",
    "version": 3
   },
   "file_extension": ".py",
   "mimetype": "text/x-python",
   "name": "python",
   "nbconvert_exporter": "python",
   "pygments_lexer": "ipython3",
   "version": "3.5.2"
  }
 },
 "nbformat": 4,
 "nbformat_minor": 0
}
